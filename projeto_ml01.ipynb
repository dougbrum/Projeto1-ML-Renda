{
 "cells": [
  {
   "cell_type": "markdown",
   "metadata": {},
   "source": [
    "# Projeto Machine Learning 1"
   ]
  },
  {
   "cell_type": "markdown",
   "metadata": {},
   "source": [
    "**Objetivo**: Através dos Dados do Censo detectar se a renda da pessoa excede o valor de 50 mil por ano."
   ]
  },
  {
   "cell_type": "markdown",
   "metadata": {},
   "source": [
    "**Dataset**: O conjunto de dados para este projeto é originário do Repositório de Aprendizado de Máquina da UCI (https://archive.ics.uci.edu/ml/datasets/Adult)"
   ]
  },
  {
   "cell_type": "markdown",
   "metadata": {},
   "source": [
    "###### Baixando as bibliotecas a serem utilizadas"
   ]
  },
  {
   "cell_type": "code",
   "execution_count": 681,
   "metadata": {},
   "outputs": [],
   "source": [
    "from sklearn.pipeline import Pipeline\n",
    "from sklearn.model_selection import RandomizedSearchCV\n",
    "from sklearn import model_selection\n",
    "from sklearn.neighbors import KNeighborsClassifier\n",
    "from sklearn.ensemble import RandomForestClassifier\n",
    "from sklearn.preprocessing import StandardScaler\n",
    "from sklearn.metrics import accuracy_score\n",
    "from sklearn.model_selection import cross_val_predict\n",
    "from sklearn.metrics import confusion_matrix\n",
    "from sklearn.metrics import classification_report\n",
    "from sklearn.model_selection import GridSearchCV\n",
    "from sklearn.preprocessing import MinMaxScaler\n",
    "from sklearn import metrics\n",
    "from sklearn.neighbors import KNeighborsClassifier\n",
    "from sklearn import preprocessing\n",
    "import pandas as pd\n",
    "import numpy as np\n",
    "import seaborn as sns\n",
    "from warnings import simplefilter\n",
    "import matplotlib.pyplot as plt\n",
    "from matplotlib import style\n",
    "style.use('ggplot')\n",
    "simplefilter(action='ignore', category=FutureWarning)\n",
    "%matplotlib inline"
   ]
  },
  {
   "cell_type": "markdown",
   "metadata": {},
   "source": [
    "##### Lendo o conjunto de dados"
   ]
  },
  {
   "cell_type": "code",
   "execution_count": 777,
   "metadata": {},
   "outputs": [],
   "source": [
    "df = pd.read_csv('adult.data')"
   ]
  },
  {
   "cell_type": "markdown",
   "metadata": {},
   "source": [
    "## Conhecendo a Base de Dados"
   ]
  },
  {
   "cell_type": "code",
   "execution_count": 904,
   "metadata": {
    "scrolled": true
   },
   "outputs": [
    {
     "data": {
      "text/html": [
       "<div>\n",
       "<style scoped>\n",
       "    .dataframe tbody tr th:only-of-type {\n",
       "        vertical-align: middle;\n",
       "    }\n",
       "\n",
       "    .dataframe tbody tr th {\n",
       "        vertical-align: top;\n",
       "    }\n",
       "\n",
       "    .dataframe thead th {\n",
       "        text-align: right;\n",
       "    }\n",
       "</style>\n",
       "<table border=\"1\" class=\"dataframe\">\n",
       "  <thead>\n",
       "    <tr style=\"text-align: right;\">\n",
       "      <th></th>\n",
       "      <th>educational-num</th>\n",
       "      <th>hours-per-week</th>\n",
       "      <th>sex_Female</th>\n",
       "      <th>sex_Male</th>\n",
       "      <th>race_Amer-Indian-Eskimo</th>\n",
       "      <th>race_Asian-Pac-Islander</th>\n",
       "      <th>race_Black</th>\n",
       "      <th>race_Other</th>\n",
       "      <th>race_White</th>\n",
       "      <th>workclass_Federal-gov</th>\n",
       "      <th>...</th>\n",
       "      <th>age_adult</th>\n",
       "      <th>age_old</th>\n",
       "      <th>marital-status_Divorced</th>\n",
       "      <th>marital-status_Married-AF-spouse</th>\n",
       "      <th>marital-status_Married-civ-spouse</th>\n",
       "      <th>marital-status_Married-spouse-absent</th>\n",
       "      <th>marital-status_Never-married</th>\n",
       "      <th>marital-status_Separated</th>\n",
       "      <th>marital-status_Widowed</th>\n",
       "      <th>capital</th>\n",
       "    </tr>\n",
       "  </thead>\n",
       "  <tbody>\n",
       "    <tr>\n",
       "      <th>0</th>\n",
       "      <td>-1.197259</td>\n",
       "      <td>-0.034087</td>\n",
       "      <td>0</td>\n",
       "      <td>1</td>\n",
       "      <td>0</td>\n",
       "      <td>0</td>\n",
       "      <td>1</td>\n",
       "      <td>0</td>\n",
       "      <td>0</td>\n",
       "      <td>0</td>\n",
       "      <td>...</td>\n",
       "      <td>0</td>\n",
       "      <td>0</td>\n",
       "      <td>0</td>\n",
       "      <td>0</td>\n",
       "      <td>0</td>\n",
       "      <td>0</td>\n",
       "      <td>1</td>\n",
       "      <td>0</td>\n",
       "      <td>0</td>\n",
       "      <td>-0.132642</td>\n",
       "    </tr>\n",
       "    <tr>\n",
       "      <th>1</th>\n",
       "      <td>-0.419335</td>\n",
       "      <td>0.772930</td>\n",
       "      <td>0</td>\n",
       "      <td>1</td>\n",
       "      <td>0</td>\n",
       "      <td>0</td>\n",
       "      <td>0</td>\n",
       "      <td>0</td>\n",
       "      <td>1</td>\n",
       "      <td>0</td>\n",
       "      <td>...</td>\n",
       "      <td>1</td>\n",
       "      <td>0</td>\n",
       "      <td>0</td>\n",
       "      <td>0</td>\n",
       "      <td>1</td>\n",
       "      <td>0</td>\n",
       "      <td>0</td>\n",
       "      <td>0</td>\n",
       "      <td>0</td>\n",
       "      <td>-0.132642</td>\n",
       "    </tr>\n",
       "    <tr>\n",
       "      <th>2</th>\n",
       "      <td>0.747550</td>\n",
       "      <td>-0.034087</td>\n",
       "      <td>0</td>\n",
       "      <td>1</td>\n",
       "      <td>0</td>\n",
       "      <td>0</td>\n",
       "      <td>0</td>\n",
       "      <td>0</td>\n",
       "      <td>1</td>\n",
       "      <td>0</td>\n",
       "      <td>...</td>\n",
       "      <td>0</td>\n",
       "      <td>0</td>\n",
       "      <td>0</td>\n",
       "      <td>0</td>\n",
       "      <td>1</td>\n",
       "      <td>0</td>\n",
       "      <td>0</td>\n",
       "      <td>0</td>\n",
       "      <td>0</td>\n",
       "      <td>-0.132642</td>\n",
       "    </tr>\n",
       "    <tr>\n",
       "      <th>3</th>\n",
       "      <td>-0.030373</td>\n",
       "      <td>-0.034087</td>\n",
       "      <td>0</td>\n",
       "      <td>1</td>\n",
       "      <td>0</td>\n",
       "      <td>0</td>\n",
       "      <td>1</td>\n",
       "      <td>0</td>\n",
       "      <td>0</td>\n",
       "      <td>0</td>\n",
       "      <td>...</td>\n",
       "      <td>1</td>\n",
       "      <td>0</td>\n",
       "      <td>0</td>\n",
       "      <td>0</td>\n",
       "      <td>1</td>\n",
       "      <td>0</td>\n",
       "      <td>0</td>\n",
       "      <td>0</td>\n",
       "      <td>0</td>\n",
       "      <td>0.895787</td>\n",
       "    </tr>\n",
       "    <tr>\n",
       "      <th>4</th>\n",
       "      <td>-0.030373</td>\n",
       "      <td>-0.841104</td>\n",
       "      <td>1</td>\n",
       "      <td>0</td>\n",
       "      <td>0</td>\n",
       "      <td>0</td>\n",
       "      <td>0</td>\n",
       "      <td>0</td>\n",
       "      <td>1</td>\n",
       "      <td>0</td>\n",
       "      <td>...</td>\n",
       "      <td>0</td>\n",
       "      <td>0</td>\n",
       "      <td>0</td>\n",
       "      <td>0</td>\n",
       "      <td>0</td>\n",
       "      <td>0</td>\n",
       "      <td>1</td>\n",
       "      <td>0</td>\n",
       "      <td>0</td>\n",
       "      <td>-0.132642</td>\n",
       "    </tr>\n",
       "  </tbody>\n",
       "</table>\n",
       "<p>5 rows × 42 columns</p>\n",
       "</div>"
      ],
      "text/plain": [
       "   educational-num  hours-per-week  sex_Female  sex_Male  \\\n",
       "0        -1.197259       -0.034087           0         1   \n",
       "1        -0.419335        0.772930           0         1   \n",
       "2         0.747550       -0.034087           0         1   \n",
       "3        -0.030373       -0.034087           0         1   \n",
       "4        -0.030373       -0.841104           1         0   \n",
       "\n",
       "   race_Amer-Indian-Eskimo  race_Asian-Pac-Islander  race_Black  race_Other  \\\n",
       "0                        0                        0           1           0   \n",
       "1                        0                        0           0           0   \n",
       "2                        0                        0           0           0   \n",
       "3                        0                        0           1           0   \n",
       "4                        0                        0           0           0   \n",
       "\n",
       "   race_White  workclass_Federal-gov  ...  age_adult  age_old  \\\n",
       "0           0                      0  ...          0        0   \n",
       "1           1                      0  ...          1        0   \n",
       "2           1                      0  ...          0        0   \n",
       "3           0                      0  ...          1        0   \n",
       "4           1                      0  ...          0        0   \n",
       "\n",
       "   marital-status_Divorced  marital-status_Married-AF-spouse  \\\n",
       "0                        0                                 0   \n",
       "1                        0                                 0   \n",
       "2                        0                                 0   \n",
       "3                        0                                 0   \n",
       "4                        0                                 0   \n",
       "\n",
       "   marital-status_Married-civ-spouse  marital-status_Married-spouse-absent  \\\n",
       "0                                  0                                     0   \n",
       "1                                  1                                     0   \n",
       "2                                  1                                     0   \n",
       "3                                  1                                     0   \n",
       "4                                  0                                     0   \n",
       "\n",
       "   marital-status_Never-married  marital-status_Separated  \\\n",
       "0                             1                         0   \n",
       "1                             0                         0   \n",
       "2                             0                         0   \n",
       "3                             0                         0   \n",
       "4                             1                         0   \n",
       "\n",
       "   marital-status_Widowed   capital  \n",
       "0                       0 -0.132642  \n",
       "1                       0 -0.132642  \n",
       "2                       0 -0.132642  \n",
       "3                       0  0.895787  \n",
       "4                       0 -0.132642  \n",
       "\n",
       "[5 rows x 42 columns]"
      ]
     },
     "execution_count": 904,
     "metadata": {},
     "output_type": "execute_result"
    }
   ],
   "source": [
    "# Lendo as 5 primeiras linhas do dataset\n",
    "df.head()"
   ]
  },
  {
   "cell_type": "code",
   "execution_count": 779,
   "metadata": {},
   "outputs": [
    {
     "data": {
      "text/plain": [
       "age                48842\n",
       "workclass          48842\n",
       "education          48842\n",
       "educational-num    48842\n",
       "marital-status     48842\n",
       "occupation         48842\n",
       "relationship       48842\n",
       "race               48842\n",
       "sex                48842\n",
       "capital-gain       48842\n",
       "capital-loss       48842\n",
       "hours-per-week     48842\n",
       "native-country     48842\n",
       "income             48842\n",
       "dtype: int64"
      ]
     },
     "execution_count": 779,
     "metadata": {},
     "output_type": "execute_result"
    }
   ],
   "source": [
    "# Verificando o total de entradas\n",
    "df.count()"
   ]
  },
  {
   "cell_type": "markdown",
   "metadata": {},
   "source": [
    "## Colunas do Dataset"
   ]
  },
  {
   "cell_type": "markdown",
   "metadata": {},
   "source": [
    "**age**: Idade.\n",
    "\n",
    "**workclass**: Classe trabalhadora. Se a pessoa é funcionário público, autônomo, empresário etc.\n",
    "\n",
    "**education**: Níveis de Escolaridade.\n",
    "\n",
    "**education-num**: Código do Nível de Escolaridade.\n",
    "\n",
    "**marital-status**: Estado Civil.\n",
    "\n",
    "**occupation**: Ocupação (Suporte técnico, Conserto de arte, Outros serviços, Vendas, Exec-managerial, Prof-specialty, Manipuladores de limpeza, Machine-op-inspct, Adm-clerical, Pesca agropecuária, Transport-moving, Priv-house-serv, Serviço de Proteção, Forças Armadas)\n",
    "\n",
    "**relationship**: Relacionamento (Esposa, Filha Própria, Marido, Não-familiar, Outro-parente, Solteira.)\n",
    "\n",
    "**race**: Raça (Preto, branco, asiático-Pac-Islander, Amer-Indian-Eskimo, Outro.)\n",
    "\n",
    "**sex**: Sexo(Feminino, Masculino).\n",
    "\n",
    "**capital-gain**: Ganho de Capital.\n",
    "\n",
    "**capital-loss**: Perda de Capital.\n",
    "\n",
    "**hours-per-week**: Horas de trabalho por Semana.\n",
    "\n",
    "**native-country**: País Nativo (Estados Unidos, Camboja, Inglaterra, Porto Rico, Canadá, Alemanha, EUA (Guam-USVI-etc), Índia, México, Portugal etc)"
   ]
  },
  {
   "cell_type": "markdown",
   "metadata": {},
   "source": [
    "# Análise Exploratória"
   ]
  },
  {
   "cell_type": "markdown",
   "metadata": {},
   "source": [
    "Esse é o momento em que fazemos uma análise exploratória na base de dados com a finalidade responder as seguintes questões:\n",
    "\n",
    "* **a)** Visualização da distribuição das classes (variável income).\n",
    "* **b)** Visualização da distribuição das classes por Nível de Escolaridade.\n",
    "* **c)** Visualização da relação (scatter) das colunas age,sex e race com a coluna income.\n"
   ]
  },
  {
   "cell_type": "code",
   "execution_count": 780,
   "metadata": {},
   "outputs": [
    {
     "data": {
      "text/plain": [
       "0        <=50K\n",
       "1        <=50K\n",
       "2         >50K\n",
       "3         >50K\n",
       "4        <=50K\n",
       "         ...  \n",
       "48837    <=50K\n",
       "48838     >50K\n",
       "48839    <=50K\n",
       "48840    <=50K\n",
       "48841     >50K\n",
       "Name: income, Length: 48842, dtype: object"
      ]
     },
     "execution_count": 780,
     "metadata": {},
     "output_type": "execute_result"
    }
   ],
   "source": [
    "# Visualização da distribuição da variável income\n",
    "df.income"
   ]
  },
  {
   "cell_type": "code",
   "execution_count": 905,
   "metadata": {},
   "outputs": [],
   "source": [
    "#df.groupby('income')['education'].value_counts()"
   ]
  },
  {
   "cell_type": "markdown",
   "metadata": {},
   "source": [
    "##### Gráfico que relaciona a renda com o nível de escolaridade"
   ]
  },
  {
   "cell_type": "code",
   "execution_count": 782,
   "metadata": {},
   "outputs": [
    {
     "data": {
      "text/plain": [
       "(array([ 0,  1,  2,  3,  4,  5,  6,  7,  8,  9, 10, 11, 12, 13, 14, 15]),\n",
       " <a list of 16 Text xticklabel objects>)"
      ]
     },
     "execution_count": 782,
     "metadata": {},
     "output_type": "execute_result"
    },
    {
     "data": {
      "image/png": "[encoded data removed]",
      "text/plain": [
       "<Figure size 1080x720 with 1 Axes>"
      ]
     },
     "metadata": {
      "needs_background": "light"
     },
     "output_type": "display_data"
    }
   ],
   "source": [
    "# Distribuição das classes por Nível de Escolaridade\n",
    "plt.figure(figsize=(15,10))\n",
    "sns.countplot(data=df, x = 'education',  hue = 'income')\n",
    "plt.xticks(rotation=65)"
   ]
  },
  {
   "cell_type": "markdown",
   "metadata": {},
   "source": [
    "##### Relação entre Sexo, Raça, Idade e Renda"
   ]
  },
  {
   "cell_type": "markdown",
   "metadata": {},
   "source": [
    "* **Gráfico que relaciona Sexo e Renda**"
   ]
  },
  {
   "cell_type": "code",
   "execution_count": 783,
   "metadata": {},
   "outputs": [
    {
     "data": {
      "text/plain": [
       "<matplotlib.axes._subplots.AxesSubplot at 0x29b93941388>"
      ]
     },
     "execution_count": 783,
     "metadata": {},
     "output_type": "execute_result"
    },
    {
     "data": {
      "image/png": "[encoded data removed]",
      "text/plain": [
       "<Figure size 720x576 with 1 Axes>"
      ]
     },
     "metadata": {
      "needs_background": "light"
     },
     "output_type": "display_data"
    }
   ],
   "source": [
    "# Grafico que relaciona Sexo e Renda\n",
    "plt.figure(figsize=(10,8))\n",
    "sns.countplot(y=\"sex\", hue='income', data=df)"
   ]
  },
  {
   "cell_type": "markdown",
   "metadata": {},
   "source": [
    "* **Gráfico que relaciona Raça e Renda**"
   ]
  },
  {
   "cell_type": "code",
   "execution_count": 784,
   "metadata": {},
   "outputs": [
    {
     "data": {
      "text/plain": [
       "<matplotlib.axes._subplots.AxesSubplot at 0x29b9393c0c8>"
      ]
     },
     "execution_count": 784,
     "metadata": {},
     "output_type": "execute_result"
    },
    {
     "data": {
      "image/png": "[encoded data removed]",
      "text/plain": [
       "<Figure size 720x576 with 1 Axes>"
      ]
     },
     "metadata": {
      "needs_background": "light"
     },
     "output_type": "display_data"
    }
   ],
   "source": [
    "# Gráfico que relaciona raça com renda\n",
    "plt.figure(figsize=(10,8))\n",
    "sns.countplot(y = 'race', hue = 'income', data = df)"
   ]
  },
  {
   "cell_type": "markdown",
   "metadata": {},
   "source": [
    "* **Gráfico que relaciona Idade e Renda**"
   ]
  },
  {
   "cell_type": "code",
   "execution_count": 785,
   "metadata": {},
   "outputs": [
    {
     "name": "stdout",
     "output_type": "stream",
     "text": [
      "A idade mínima é de: 17 anos\n",
      "A idade máxima é de: 90 anos\n"
     ]
    }
   ],
   "source": [
    "# Verificando idade minima e maxima\n",
    "print(f'A idade mínima é de: {df.age.min()} anos')\n",
    "print(f'A idade máxima é de: {df.age.max()} anos')"
   ]
  },
  {
   "cell_type": "code",
   "execution_count": 786,
   "metadata": {},
   "outputs": [],
   "source": [
    "# Para melhor visualização gráfica\n",
    "# Se fez necessário o particionamento da coluna dados em tres sub colunas.\n",
    "df.age = pd.cut(df.age, [0,30,60,90], labels = ['young', 'adult', 'old'])"
   ]
  },
  {
   "cell_type": "code",
   "execution_count": 787,
   "metadata": {},
   "outputs": [
    {
     "data": {
      "text/plain": [
       "<matplotlib.axes._subplots.AxesSubplot at 0x29b941872c8>"
      ]
     },
     "execution_count": 787,
     "metadata": {},
     "output_type": "execute_result"
    },
    {
     "data": {
      "image/png": "[encoded data removed]",
      "text/plain": [
       "<Figure size 720x576 with 1 Axes>"
      ]
     },
     "metadata": {
      "needs_background": "light"
     },
     "output_type": "display_data"
    }
   ],
   "source": [
    "# Gráfico da relação entre idade e renda\n",
    "plt.figure(figsize = (10,8))\n",
    "sns.countplot(y='age', hue = 'income', data = df)"
   ]
  },
  {
   "cell_type": "markdown",
   "metadata": {},
   "source": [
    "### Verificação dos dados"
   ]
  },
  {
   "cell_type": "markdown",
   "metadata": {},
   "source": [
    "####  <span style=\"color:Blue\">  Verificação e Análise de Dados </span>\n",
    "**Análise e pre-processamento nos dados:**\n",
    "\n",
    "* **a)** Verificar se existem dados missing.\n",
    "* **b)** Converter colunas categóricas para numéricas usando **OneHotEnconder**.\n",
    "* **c)** Explicar qual técnica de conversão você usou e por quê."
   ]
  },
  {
   "cell_type": "code",
   "execution_count": 788,
   "metadata": {},
   "outputs": [
    {
     "data": {
      "text/plain": [
       "age                0\n",
       "workclass          0\n",
       "education          0\n",
       "educational-num    0\n",
       "marital-status     0\n",
       "occupation         0\n",
       "relationship       0\n",
       "race               0\n",
       "sex                0\n",
       "capital-gain       0\n",
       "capital-loss       0\n",
       "hours-per-week     0\n",
       "native-country     0\n",
       "income             0\n",
       "dtype: int64"
      ]
     },
     "execution_count": 788,
     "metadata": {},
     "output_type": "execute_result"
    }
   ],
   "source": [
    "# Verificando dados missing\n",
    "df.isnull().sum()"
   ]
  },
  {
   "cell_type": "markdown",
   "metadata": {},
   "source": [
    "###### Tratando a coluna workclass"
   ]
  },
  {
   "cell_type": "code",
   "execution_count": 789,
   "metadata": {},
   "outputs": [],
   "source": [
    "# o dataset não possui entradas nulas\n",
    "# No entanto, há muitas entradas com o valor '?'\n",
    "# Por conta disso vamos precisar fazer algumas auterações"
   ]
  },
  {
   "cell_type": "code",
   "execution_count": 790,
   "metadata": {},
   "outputs": [
    {
     "data": {
      "text/plain": [
       "income  workclass       \n",
       "<=50K   Private             26519\n",
       "        Self-emp-not-inc     2785\n",
       "        ?                    2534\n",
       "        Local-gov            2209\n",
       "        State-gov            1451\n",
       "        Federal-gov           871\n",
       "        Self-emp-inc          757\n",
       "        Without-pay            19\n",
       "        Never-worked           10\n",
       ">50K    Private              7387\n",
       "        Self-emp-not-inc     1077\n",
       "        Self-emp-inc          938\n",
       "        Local-gov             927\n",
       "        Federal-gov           561\n",
       "        State-gov             530\n",
       "        ?                     265\n",
       "        Without-pay             2\n",
       "Name: workclass, dtype: int64"
      ]
     },
     "execution_count": 790,
     "metadata": {},
     "output_type": "execute_result"
    }
   ],
   "source": [
    "# Agrupando as colunas workclass e income\n",
    "df.groupby('income')['workclass'].value_counts()"
   ]
  },
  {
   "cell_type": "code",
   "execution_count": 791,
   "metadata": {},
   "outputs": [],
   "source": [
    "# Modificando todos as entradas do tipo \"?\" para undefined\n",
    "def rename_work(row):\n",
    "    if row == '?':\n",
    "        return 'undefined'\n",
    "    else:\n",
    "        return row\n",
    "df.workclass = df.workclass.apply(rename_work)"
   ]
  },
  {
   "cell_type": "code",
   "execution_count": 792,
   "metadata": {},
   "outputs": [
    {
     "name": "stderr",
     "output_type": "stream",
     "text": [
      "C:\\Users\\dougb\\Anaconda3\\lib\\site-packages\\pandas\\core\\indexing.py:670: SettingWithCopyWarning: \n",
      "A value is trying to be set on a copy of a slice from a DataFrame\n",
      "\n",
      "See the caveats in the documentation: https://pandas.pydata.org/pandas-docs/stable/user_guide/indexing.html#returning-a-view-versus-a-copy\n",
      "  self._setitem_with_indexer(indexer, value)\n"
     ]
    }
   ],
   "source": [
    "# Balanceando os dados de modo que a parcela das '?' que estao relacionadas com a renda >50K\n",
    "# Receberá o nome de Without-pay\n",
    "# Balanceando os dados de modo que a parcela das '?' que estao relacionadas com a renda <=50K\n",
    "# Receberá o nome de Private\n",
    "df['workclass'].loc[(df['workclass'] == 'undefined') & (df['income'] == '>50K')] = 'Without-pay' \n",
    "df['workclass'].loc[(df['workclass'] == 'undefined') & (df['income'] == '<=50K')]= 'Private'"
   ]
  },
  {
   "cell_type": "code",
   "execution_count": 793,
   "metadata": {},
   "outputs": [
    {
     "data": {
      "text/plain": [
       "income  workclass       \n",
       "<=50K   Private             29053\n",
       "        Self-emp-not-inc     2785\n",
       "        Local-gov            2209\n",
       "        State-gov            1451\n",
       "        Federal-gov           871\n",
       "        Self-emp-inc          757\n",
       "        Without-pay            19\n",
       "        Never-worked           10\n",
       ">50K    Private              7387\n",
       "        Self-emp-not-inc     1077\n",
       "        Self-emp-inc          938\n",
       "        Local-gov             927\n",
       "        Federal-gov           561\n",
       "        State-gov             530\n",
       "        Without-pay           267\n",
       "Name: workclass, dtype: int64"
      ]
     },
     "execution_count": 793,
     "metadata": {},
     "output_type": "execute_result"
    }
   ],
   "source": [
    "# Agrupando novamente income e workclass e notando que a entrada '?' foi encorporada \n",
    "df.groupby('income')['workclass'].value_counts()"
   ]
  },
  {
   "cell_type": "markdown",
   "metadata": {},
   "source": [
    "###### Tratando a coluna occupation"
   ]
  },
  {
   "cell_type": "code",
   "execution_count": 794,
   "metadata": {},
   "outputs": [
    {
     "data": {
      "text/plain": [
       "income  occupation       \n",
       "<=50K   Adm-clerical         4843\n",
       "        Craft-repair         4729\n",
       "        Other-service        4719\n",
       "        Sales                4029\n",
       "        Prof-specialty       3388\n",
       "        Exec-managerial      3178\n",
       "        Machine-op-inspct    2650\n",
       "        ?                    2544\n",
       "        Handlers-cleaners    1934\n",
       "        Transport-moving     1874\n",
       "        Farming-fishing      1317\n",
       "        Tech-support         1026\n",
       "        Protective-serv       675\n",
       "        Priv-house-serv       239\n",
       "        Armed-Forces           10\n",
       ">50K    Exec-managerial      2908\n",
       "        Prof-specialty       2784\n",
       "        Sales                1475\n",
       "        Craft-repair         1383\n",
       "        Adm-clerical          768\n",
       "        Transport-moving      481\n",
       "        Tech-support          420\n",
       "        Machine-op-inspct     372\n",
       "        Protective-serv       308\n",
       "        ?                     265\n",
       "        Other-service         204\n",
       "        Farming-fishing       173\n",
       "        Handlers-cleaners     138\n",
       "        Armed-Forces            5\n",
       "        Priv-house-serv         3\n",
       "Name: occupation, dtype: int64"
      ]
     },
     "execution_count": 794,
     "metadata": {},
     "output_type": "execute_result"
    }
   ],
   "source": [
    "# Agrupando income e occupation\n",
    "df.groupby('income')['occupation'].value_counts()"
   ]
  },
  {
   "cell_type": "code",
   "execution_count": 795,
   "metadata": {},
   "outputs": [],
   "source": [
    "# Renomendo as '?'\n",
    "def rename_occup(row):\n",
    "    if row == '?':\n",
    "        return 'undefined'\n",
    "    else:\n",
    "        return row\n",
    "df.occupation = df.occupation.apply(rename_occup)"
   ]
  },
  {
   "cell_type": "code",
   "execution_count": 796,
   "metadata": {},
   "outputs": [],
   "source": [
    "# Encorporando as entradas '?'\n",
    "df['occupation'].loc[(df['occupation'] =='undefined') & (df['income']=='>50K')] = 'Exec-managerial'\n",
    "df['occupation'].loc[(df['occupation'] == 'undefined') & (df['income']=='<=50K')] = 'Adm-clerical'"
   ]
  },
  {
   "cell_type": "code",
   "execution_count": 797,
   "metadata": {},
   "outputs": [
    {
     "data": {
      "text/plain": [
       "income  occupation       \n",
       "<=50K   Adm-clerical         7387\n",
       "        Craft-repair         4729\n",
       "        Other-service        4719\n",
       "        Sales                4029\n",
       "        Prof-specialty       3388\n",
       "        Exec-managerial      3178\n",
       "        Machine-op-inspct    2650\n",
       "        Handlers-cleaners    1934\n",
       "        Transport-moving     1874\n",
       "        Farming-fishing      1317\n",
       "        Tech-support         1026\n",
       "        Protective-serv       675\n",
       "        Priv-house-serv       239\n",
       "        Armed-Forces           10\n",
       ">50K    Exec-managerial      3173\n",
       "        Prof-specialty       2784\n",
       "        Sales                1475\n",
       "        Craft-repair         1383\n",
       "        Adm-clerical          768\n",
       "        Transport-moving      481\n",
       "        Tech-support          420\n",
       "        Machine-op-inspct     372\n",
       "        Protective-serv       308\n",
       "        Other-service         204\n",
       "        Farming-fishing       173\n",
       "        Handlers-cleaners     138\n",
       "        Armed-Forces            5\n",
       "        Priv-house-serv         3\n",
       "Name: occupation, dtype: int64"
      ]
     },
     "execution_count": 797,
     "metadata": {},
     "output_type": "execute_result"
    }
   ],
   "source": [
    "# Checando as mudanças realizadas\n",
    "df.groupby('income')['occupation'].value_counts()"
   ]
  },
  {
   "cell_type": "markdown",
   "metadata": {},
   "source": [
    "###### Transformando dados categóricos em numéricos"
   ]
  },
  {
   "cell_type": "code",
   "execution_count": 799,
   "metadata": {},
   "outputs": [],
   "source": [
    "# Transformando colunas categóricas em numéricas\n",
    "num = ['sex', 'race', 'workclass', 'occupation', 'age', 'marital-status']\n",
    "\n",
    "for x in num:\n",
    "    df = pd.get_dummies(df, columns = [x], prefix = [x])\n",
    "\n"
   ]
  },
  {
   "cell_type": "markdown",
   "metadata": {},
   "source": [
    "**EXPLIÇÃO...**\n",
    "\n",
    " A escolha pelo get_dummies se deu, pois essa técnica tem o ponto positivo de não criar no modelo\n",
    " \n",
    " a falsa sensação de ordem que o LabelEncoder as vezes pode gerar."
   ]
  },
  {
   "cell_type": "markdown",
   "metadata": {},
   "source": [
    "## <span style=\"color:Blue\">  Pré-processamento de Dados </span>\n",
    "\n",
    "Fazer um pré-processamento nos dados antes de aplicar os algoritmos de Machine learning.\n",
    "\n",
    "* Aplicar algum padronizador ou normalizador nos dados numéricos.\n",
    "\n",
    "\n"
   ]
  },
  {
   "cell_type": "markdown",
   "metadata": {},
   "source": [
    "**Criando nova coluna**\n",
    "* Vamos crias uma nova coluna que sera a difença entre o capital recebido e o gasto.\n",
    "* Após a criação podemos excluir as colunas que lhe deram origem."
   ]
  },
  {
   "cell_type": "code",
   "execution_count": 801,
   "metadata": {},
   "outputs": [],
   "source": [
    "# Criando uma nova coluna com a renda final.\n",
    "df['capital'] = df['capital-gain'] - df['capital-loss']"
   ]
  },
  {
   "cell_type": "code",
   "execution_count": 803,
   "metadata": {},
   "outputs": [],
   "source": [
    "# Excluindo algumas colunas ...\n",
    "apagar = ['education', 'capital-gain', 'capital-loss', 'relationship', 'native-country']\n",
    "\n",
    "for x in apagar:\n",
    "    df.drop(columns = [x], inplace = True)"
   ]
  },
  {
   "cell_type": "markdown",
   "metadata": {},
   "source": [
    "**Normalizando as colunas numéricas**"
   ]
  },
  {
   "cell_type": "code",
   "execution_count": 804,
   "metadata": {},
   "outputs": [],
   "source": [
    "# Normalizando ....\n",
    "lista = ['hours-per-week', 'capital', 'educational-num']\n",
    "\n",
    "for x in lista:\n",
    "    scaler = preprocessing.StandardScaler().fit(df[[x]])\n",
    "    df[x] = scaler.transform(df[[x]])\n",
    "    \n",
    "    \n",
    "    "
   ]
  },
  {
   "cell_type": "markdown",
   "metadata": {},
   "source": [
    "##  <span style=\"color:Blue\">  Classificação e Avaliação de Modelos </span>\n",
    "\n",
    "Treinar pelo menos dois algoritmos supervisionados voltados para tarefas de classificação.\n",
    "\n",
    "* **a)** Avaliar os modelos separando os dados de **treino** e **teste**.\n",
    "* **b)** Avaliar os modelos usando **Cross Validation** \n",
    "* **c)** Explicar a diferença entre cada uma das abordagens acima com suas vantagens e desvantagens.\n",
    "* **d)** Imprimir os resultados para cada modelo e abordagem de avaliação utilizando as métricas **Precisão**, **Recall** e **F1 Score**.\n"
   ]
  },
  {
   "cell_type": "markdown",
   "metadata": {},
   "source": [
    "### Separando dados de treino e de teste"
   ]
  },
  {
   "cell_type": "code",
   "execution_count": 806,
   "metadata": {},
   "outputs": [],
   "source": [
    "classe = df['income']\n",
    "treino = df.drop('income', axis = 1, inplace = True)"
   ]
  },
  {
   "cell_type": "code",
   "execution_count": 816,
   "metadata": {},
   "outputs": [],
   "source": [
    "from sklearn.model_selection import train_test_split\n",
    "X_train, X_test, y_train, y_test = train_test_split(df, classe ,test_size=0.3)"
   ]
  },
  {
   "cell_type": "markdown",
   "metadata": {},
   "source": [
    "### Instanciando o modelo"
   ]
  },
  {
   "cell_type": "code",
   "execution_count": 817,
   "metadata": {},
   "outputs": [],
   "source": [
    "knn = KNeighborsClassifier(n_neighbors=3)"
   ]
  },
  {
   "cell_type": "markdown",
   "metadata": {},
   "source": [
    "### Treinando o modelo"
   ]
  },
  {
   "cell_type": "code",
   "execution_count": 818,
   "metadata": {},
   "outputs": [
    {
     "data": {
      "text/plain": [
       "KNeighborsClassifier(algorithm='auto', leaf_size=30, metric='minkowski',\n",
       "                     metric_params=None, n_jobs=None, n_neighbors=3, p=2,\n",
       "                     weights='uniform')"
      ]
     },
     "execution_count": 818,
     "metadata": {},
     "output_type": "execute_result"
    }
   ],
   "source": [
    "knn.fit(X_train, y_train)"
   ]
  },
  {
   "cell_type": "markdown",
   "metadata": {},
   "source": [
    "### Executando o modelo"
   ]
  },
  {
   "cell_type": "code",
   "execution_count": 820,
   "metadata": {},
   "outputs": [],
   "source": [
    "resultado = knn.predict(X_test)"
   ]
  },
  {
   "cell_type": "code",
   "execution_count": 821,
   "metadata": {},
   "outputs": [
    {
     "data": {
      "text/plain": [
       "array(['<=50K', '<=50K', '<=50K', ..., '>50K', '<=50K', '<=50K'],\n",
       "      dtype=object)"
      ]
     },
     "execution_count": 821,
     "metadata": {},
     "output_type": "execute_result"
    }
   ],
   "source": [
    "resultado"
   ]
  },
  {
   "cell_type": "markdown",
   "metadata": {},
   "source": [
    "### Cross Validation"
   ]
  },
  {
   "cell_type": "code",
   "execution_count": 822,
   "metadata": {},
   "outputs": [
    {
     "data": {
      "text/plain": [
       "array([0.83068891, 0.82362575, 0.82463145, 0.83015971, 0.83548321])"
      ]
     },
     "execution_count": 822,
     "metadata": {},
     "output_type": "execute_result"
    }
   ],
   "source": [
    "from sklearn.model_selection import cross_val_score\n",
    "scores = cross_val_score(knn, df, classe, cv=5)\n",
    "scores"
   ]
  },
  {
   "cell_type": "code",
   "execution_count": 824,
   "metadata": {},
   "outputs": [
    {
     "name": "stdout",
     "output_type": "stream",
     "text": [
      "              precision    recall  f1-score   support\n",
      "\n",
      "       <=50K       0.88      0.90      0.89     11114\n",
      "        >50K       0.66      0.61      0.63      3539\n",
      "\n",
      "    accuracy                           0.83     14653\n",
      "   macro avg       0.77      0.75      0.76     14653\n",
      "weighted avg       0.83      0.83      0.83     14653\n",
      "\n"
     ]
    }
   ],
   "source": [
    "\n",
    "print(metrics.classification_report(y_test, resultado, target_names = classe.unique()))"
   ]
  },
  {
   "cell_type": "markdown",
   "metadata": {},
   "source": [
    "### Definindo a função Acurácia"
   ]
  },
  {
   "cell_type": "code",
   "execution_count": 834,
   "metadata": {},
   "outputs": [],
   "source": [
    "def Acuracia(knn,X,y):\n",
    "    resultados = cross_val_predict(knn, X, y)\n",
    "    return metrics.accuracy_score(y,resultados)"
   ]
  },
  {
   "cell_type": "code",
   "execution_count": 835,
   "metadata": {},
   "outputs": [
    {
     "data": {
      "text/plain": [
       "0.8289177347364973"
      ]
     },
     "execution_count": 835,
     "metadata": {},
     "output_type": "execute_result"
    }
   ],
   "source": [
    "Acuracia(knn, df, classe)"
   ]
  },
  {
   "cell_type": "markdown",
   "metadata": {},
   "source": [
    "### Instanciando o modelo - random forest"
   ]
  },
  {
   "cell_type": "code",
   "execution_count": 825,
   "metadata": {},
   "outputs": [],
   "source": [
    "random_clf = RandomForestClassifier(random_state=0)"
   ]
  },
  {
   "cell_type": "markdown",
   "metadata": {},
   "source": [
    "###  Treinando o modelo random forest"
   ]
  },
  {
   "cell_type": "code",
   "execution_count": 827,
   "metadata": {},
   "outputs": [
    {
     "data": {
      "text/plain": [
       "RandomForestClassifier(bootstrap=True, ccp_alpha=0.0, class_weight=None,\n",
       "                       criterion='gini', max_depth=None, max_features='auto',\n",
       "                       max_leaf_nodes=None, max_samples=None,\n",
       "                       min_impurity_decrease=0.0, min_impurity_split=None,\n",
       "                       min_samples_leaf=1, min_samples_split=2,\n",
       "                       min_weight_fraction_leaf=0.0, n_estimators=100,\n",
       "                       n_jobs=None, oob_score=False, random_state=0, verbose=0,\n",
       "                       warm_start=False)"
      ]
     },
     "execution_count": 827,
     "metadata": {},
     "output_type": "execute_result"
    }
   ],
   "source": [
    "random_clf.fit(X_train,y_train)"
   ]
  },
  {
   "cell_type": "markdown",
   "metadata": {},
   "source": [
    "### Executando o modelo "
   ]
  },
  {
   "cell_type": "code",
   "execution_count": 828,
   "metadata": {},
   "outputs": [
    {
     "data": {
      "text/plain": [
       "array(['<=50K', '<=50K', '<=50K', ..., '>50K', '<=50K', '<=50K'],\n",
       "      dtype=object)"
      ]
     },
     "execution_count": 828,
     "metadata": {},
     "output_type": "execute_result"
    }
   ],
   "source": [
    "resultado = random_clf.predict(X_test)\n",
    "resultado"
   ]
  },
  {
   "cell_type": "markdown",
   "metadata": {},
   "source": [
    "### Cross validation"
   ]
  },
  {
   "cell_type": "code",
   "execution_count": 829,
   "metadata": {},
   "outputs": [
    {
     "data": {
      "text/plain": [
       "array([0.84829563, 0.85259494, 0.85534398, 0.85657248, 0.86066749])"
      ]
     },
     "execution_count": 829,
     "metadata": {},
     "output_type": "execute_result"
    }
   ],
   "source": [
    "#from sklearn.model_selection import cross_val_score\n",
    "scores = cross_val_score(random_clf, df, classe)\n",
    "scores"
   ]
  },
  {
   "cell_type": "markdown",
   "metadata": {},
   "source": [
    "### Validando o modelo"
   ]
  },
  {
   "cell_type": "code",
   "execution_count": 830,
   "metadata": {},
   "outputs": [
    {
     "name": "stdout",
     "output_type": "stream",
     "text": [
      "              precision    recall  f1-score   support\n",
      "\n",
      "       <=50K       0.89      0.93      0.91     11114\n",
      "        >50K       0.74      0.63      0.68      3539\n",
      "\n",
      "    accuracy                           0.86     14653\n",
      "   macro avg       0.81      0.78      0.79     14653\n",
      "weighted avg       0.85      0.86      0.85     14653\n",
      "\n"
     ]
    }
   ],
   "source": [
    "print(metrics.classification_report(y_test, resultado, target_names = classe.unique()))"
   ]
  },
  {
   "cell_type": "code",
   "execution_count": 831,
   "metadata": {},
   "outputs": [],
   "source": [
    "# Testando a acurácia do modelo\n",
    "def Acuracia(random_clf,X,y):\n",
    "    resultados = cross_val_predict(random_clf, X, y)\n",
    "    return metrics.accuracy_score(y,resultados)"
   ]
  },
  {
   "cell_type": "code",
   "execution_count": 833,
   "metadata": {},
   "outputs": [
    {
     "data": {
      "text/plain": [
       "0.8546947299455386"
      ]
     },
     "execution_count": 833,
     "metadata": {},
     "output_type": "execute_result"
    }
   ],
   "source": [
    "Acuracia(random_clf,df,classe)"
   ]
  },
  {
   "cell_type": "markdown",
   "metadata": {},
   "source": [
    "##  <span style=\"color:Blue\"> Tunning do Modelo </span>\n",
    "\n",
    "Fazer um Tunning dos modelos e verificar o melhor resultado.\n",
    "\n",
    "* Defina os melhores Hyperparametros para os algoritmos utilizando o GridSearch.\n",
    "* Implemente usando Pipelines.\n",
    "* Avalie os modelos usando **Cross Validation** (Utilize o recuso já integrado ao Pipeline).\n"
   ]
  },
  {
   "cell_type": "markdown",
   "metadata": {},
   "source": [
    "### Criando Pipelines"
   ]
  },
  {
   "cell_type": "code",
   "execution_count": 882,
   "metadata": {},
   "outputs": [],
   "source": [
    "# Criando vários Pipelines\n",
    "pip_1 = Pipeline([\n",
    "    ('min_max_scaler', MinMaxScaler()),\n",
    "    ('clf', KNeighborsClassifier(n_neighbors=3))\n",
    "])\n",
    "# Pipeline com o pré-processador  MinMaxScaler:\n",
    "pip_minmax = Pipeline([      \n",
    "    ('min_max_scaler', MinMaxScaler()),\n",
    "    ('clf',RandomForestClassifier(max_depth = 5))\n",
    "])\n",
    "# Pipeline com o pré-processador  MinMaxScaler e definindo um parâmetro para o modelo:\n",
    "pip_max_depth = Pipeline([              \n",
    "    ('min_max_scaler', MinMaxScaler()),\n",
    "    ('clf', RandomForestClassifier(max_depth=3))\n",
    "])\n",
    "# Pipeline com o pré-processador  StandardScaler e definindo um parâmetro para o modelo:\n",
    "pip_max_depth_std = Pipeline([              \n",
    "    ('standardscaler', StandardScaler()),\n",
    "    ('clf', RandomForestClassifier(max_depth=3))\n",
    "])\n"
   ]
  },
  {
   "cell_type": "code",
   "execution_count": 880,
   "metadata": {},
   "outputs": [
    {
     "data": {
      "text/plain": [
       "0.8283627926021975"
      ]
     },
     "execution_count": 880,
     "metadata": {},
     "output_type": "execute_result"
    }
   ],
   "source": [
    "pip_1.fit(X_train,y_train)\n",
    "acuracia1 = pip_1.score(X_test, y_test)\n",
    "acuracia1"
   ]
  },
  {
   "cell_type": "code",
   "execution_count": 883,
   "metadata": {},
   "outputs": [
    {
     "data": {
      "text/plain": [
       "0.8467208080256603"
      ]
     },
     "execution_count": 883,
     "metadata": {},
     "output_type": "execute_result"
    }
   ],
   "source": [
    "pip_minmax.fit(X_train,y_train)\n",
    "acuracia2 = pip_minmax.score(X_test, y_test)\n",
    "acuracia2"
   ]
  },
  {
   "cell_type": "code",
   "execution_count": 849,
   "metadata": {},
   "outputs": [
    {
     "data": {
      "text/plain": [
       "0.8115061762096499"
      ]
     },
     "execution_count": 849,
     "metadata": {},
     "output_type": "execute_result"
    }
   ],
   "source": [
    "pip_max_depth.fit(X_train,y_train)\n",
    "acuracia3 = pip_max_depth.score(X_test, y_test)\n",
    "acuracia3\n"
   ]
  },
  {
   "cell_type": "code",
   "execution_count": 850,
   "metadata": {},
   "outputs": [
    {
     "data": {
      "text/plain": [
       "0.8061147887804545"
      ]
     },
     "execution_count": 850,
     "metadata": {},
     "output_type": "execute_result"
    }
   ],
   "source": [
    "pip_max_depth_std.fit(X_train,y_train)\n",
    "acuracia4 = pip_max_depth_std.score(X_test, y_test)\n",
    "acuracia4"
   ]
  },
  {
   "cell_type": "markdown",
   "metadata": {},
   "source": [
    "### GridSearch "
   ]
  },
  {
   "cell_type": "code",
   "execution_count": 888,
   "metadata": {},
   "outputs": [],
   "source": [
    "pip_final = Pipeline([      \n",
    "    ('min_max_scaler', MinMaxScaler()),\n",
    "    ('clf',RandomForestClassifier())\n",
    "])"
   ]
  },
  {
   "cell_type": "code",
   "execution_count": 889,
   "metadata": {},
   "outputs": [
    {
     "data": {
      "text/plain": [
       "Pipeline(memory=None,\n",
       "         steps=[('min_max_scaler',\n",
       "                 MinMaxScaler(copy=True, feature_range=(0, 1))),\n",
       "                ('clf',\n",
       "                 RandomForestClassifier(bootstrap=True, ccp_alpha=0.0,\n",
       "                                        class_weight=None, criterion='gini',\n",
       "                                        max_depth=None, max_features='auto',\n",
       "                                        max_leaf_nodes=None, max_samples=None,\n",
       "                                        min_impurity_decrease=0.0,\n",
       "                                        min_impurity_split=None,\n",
       "                                        min_samples_leaf=1, min_samples_split=2,\n",
       "                                        min_weight_fraction_leaf=0.0,\n",
       "                                        n_estimators=100, n_jobs=None,\n",
       "                                        oob_score=False, random_state=None,\n",
       "                                        verbose=0, warm_start=False))],\n",
       "         verbose=False)"
      ]
     },
     "execution_count": 889,
     "metadata": {},
     "output_type": "execute_result"
    }
   ],
   "source": [
    "pip_final.fit(X_train, y_train)"
   ]
  },
  {
   "cell_type": "code",
   "execution_count": 890,
   "metadata": {},
   "outputs": [
    {
     "data": {
      "text/plain": [
       "array(['<=50K', '<=50K', '<=50K', ..., '>50K', '<=50K', '<=50K'],\n",
       "      dtype=object)"
      ]
     },
     "execution_count": 890,
     "metadata": {},
     "output_type": "execute_result"
    }
   ],
   "source": [
    "pip_final.predict(X_test)"
   ]
  },
  {
   "cell_type": "code",
   "execution_count": 897,
   "metadata": {},
   "outputs": [],
   "source": [
    "# Parâmetros para fazer o grid\n",
    "parametros_grid = dict(clf__max_depth=[3,4,5,6,7,8,9,10])\n",
    "\n",
    "# Cria objeto gridsearch com os parâmetros definidos e a configuração de validação cruzada com 5 folds\n",
    "grid = GridSearchCV(pip_final, param_grid=parametros_grid, cv=5, scoring='accuracy')"
   ]
  },
  {
   "cell_type": "code",
   "execution_count": 896,
   "metadata": {},
   "outputs": [
    {
     "data": {
      "text/plain": [
       "['clf',\n",
       " 'clf__bootstrap',\n",
       " 'clf__ccp_alpha',\n",
       " 'clf__class_weight',\n",
       " 'clf__criterion',\n",
       " 'clf__max_depth',\n",
       " 'clf__max_features',\n",
       " 'clf__max_leaf_nodes',\n",
       " 'clf__max_samples',\n",
       " 'clf__min_impurity_decrease',\n",
       " 'clf__min_impurity_split',\n",
       " 'clf__min_samples_leaf',\n",
       " 'clf__min_samples_split',\n",
       " 'clf__min_weight_fraction_leaf',\n",
       " 'clf__n_estimators',\n",
       " 'clf__n_jobs',\n",
       " 'clf__oob_score',\n",
       " 'clf__random_state',\n",
       " 'clf__verbose',\n",
       " 'clf__warm_start',\n",
       " 'memory',\n",
       " 'min_max_scaler',\n",
       " 'min_max_scaler__copy',\n",
       " 'min_max_scaler__feature_range',\n",
       " 'steps',\n",
       " 'verbose']"
      ]
     },
     "execution_count": 896,
     "metadata": {},
     "output_type": "execute_result"
    }
   ],
   "source": [
    "sorted(pip_final.get_params().keys())"
   ]
  },
  {
   "cell_type": "code",
   "execution_count": 898,
   "metadata": {},
   "outputs": [
    {
     "data": {
      "text/plain": [
       "GridSearchCV(cv=5, error_score=nan,\n",
       "             estimator=Pipeline(memory=None,\n",
       "                                steps=[('min_max_scaler',\n",
       "                                        MinMaxScaler(copy=True,\n",
       "                                                     feature_range=(0, 1))),\n",
       "                                       ('clf',\n",
       "                                        RandomForestClassifier(bootstrap=True,\n",
       "                                                               ccp_alpha=0.0,\n",
       "                                                               class_weight=None,\n",
       "                                                               criterion='gini',\n",
       "                                                               max_depth=None,\n",
       "                                                               max_features='auto',\n",
       "                                                               max_leaf_nodes=None,\n",
       "                                                               max_samples=None,\n",
       "                                                               min_impurity_decrease=0.0,\n",
       "                                                               min_impurity_split=None,\n",
       "                                                               min_samples_leaf=1,\n",
       "                                                               min_samples_split=2,\n",
       "                                                               min_weight_fraction_leaf=0.0,\n",
       "                                                               n_estimators=100,\n",
       "                                                               n_jobs=None,\n",
       "                                                               oob_score=False,\n",
       "                                                               random_state=None,\n",
       "                                                               verbose=0,\n",
       "                                                               warm_start=False))],\n",
       "                                verbose=False),\n",
       "             iid='deprecated', n_jobs=None,\n",
       "             param_grid={'clf__max_depth': [3, 4, 5, 6, 7, 8, 9, 10]},\n",
       "             pre_dispatch='2*n_jobs', refit=True, return_train_score=False,\n",
       "             scoring='accuracy', verbose=0)"
      ]
     },
     "execution_count": 898,
     "metadata": {},
     "output_type": "execute_result"
    }
   ],
   "source": [
    "#Executa o GridSearch\n",
    "grid.fit(X_train, y_train)"
   ]
  },
  {
   "cell_type": "code",
   "execution_count": 899,
   "metadata": {},
   "outputs": [
    {
     "data": {
      "text/plain": [
       "{'mean_fit_time': array([0.87278013, 0.94844708, 1.18143053, 1.36007476, 1.41104736,\n",
       "        1.51104798, 1.57646861, 1.68241949]),\n",
       " 'std_fit_time': array([0.08363242, 0.01705805, 0.08536686, 0.08721826, 0.10666086,\n",
       "        0.05383711, 0.03450358, 0.01166947]),\n",
       " 'mean_score_time': array([0.09093165, 0.09254379, 1.67013631, 0.10994568, 0.09754705,\n",
       "        0.10735483, 0.11314673, 0.12234554]),\n",
       " 'std_score_time': array([3.04418860e-02, 2.66607337e-02, 3.15688266e+00, 1.34450602e-02,\n",
       "        1.20693595e-03, 3.81567428e-03, 7.40199090e-04, 2.79742865e-03]),\n",
       " 'param_clf__max_depth': masked_array(data=[3, 4, 5, 6, 7, 8, 9, 10],\n",
       "              mask=[False, False, False, False, False, False, False, False],\n",
       "        fill_value='?',\n",
       "             dtype=object),\n",
       " 'params': [{'clf__max_depth': 3},\n",
       "  {'clf__max_depth': 4},\n",
       "  {'clf__max_depth': 5},\n",
       "  {'clf__max_depth': 6},\n",
       "  {'clf__max_depth': 7},\n",
       "  {'clf__max_depth': 8},\n",
       "  {'clf__max_depth': 9},\n",
       "  {'clf__max_depth': 10}],\n",
       " 'split0_test_score': array([0.81237204, 0.83767183, 0.84556888, 0.84980989, 0.85361217,\n",
       "        0.856537  , 0.8582919 , 0.86341035]),\n",
       " 'split1_test_score': array([0.81529687, 0.83240714, 0.84849371, 0.85068734, 0.85595203,\n",
       "        0.85916935, 0.85756069, 0.86224042]),\n",
       " 'split2_test_score': array([0.80096519, 0.83226089, 0.84556888, 0.85375841, 0.85551331,\n",
       "        0.85770693, 0.8600468 , 0.8600468 ]),\n",
       " 'split3_test_score': array([0.81134835, 0.8312372 , 0.84030418, 0.85141854, 0.85112606,\n",
       "        0.85858438, 0.85463586, 0.86150921]),\n",
       " 'split4_test_score': array([0.81263712, 0.8332602 , 0.8467164 , 0.85256692, 0.85651602,\n",
       "        0.8585637 , 0.86002633, 0.86075764]),\n",
       " 'mean_test_score': array([0.81052391, 0.83336745, 0.84533041, 0.85164822, 0.85454392,\n",
       "        0.85811227, 0.85811231, 0.86159289]),\n",
       " 'std_test_score': array([0.00495401, 0.00224606, 0.00273145, 0.00138942, 0.00196782,\n",
       "        0.00091541, 0.00199138, 0.00116769]),\n",
       " 'rank_test_score': array([8, 7, 6, 5, 4, 3, 2, 1])}"
      ]
     },
     "execution_count": 899,
     "metadata": {},
     "output_type": "execute_result"
    }
   ],
   "source": [
    "grid.cv_results_"
   ]
  },
  {
   "cell_type": "code",
   "execution_count": 900,
   "metadata": {},
   "outputs": [
    {
     "data": {
      "text/plain": [
       "{'clf__max_depth': 10}"
      ]
     },
     "execution_count": 900,
     "metadata": {},
     "output_type": "execute_result"
    }
   ],
   "source": [
    "grid.best_params_"
   ]
  },
  {
   "cell_type": "code",
   "execution_count": 902,
   "metadata": {},
   "outputs": [
    {
     "data": {
      "text/plain": [
       "0.8615928855701153"
      ]
     },
     "execution_count": 902,
     "metadata": {},
     "output_type": "execute_result"
    }
   ],
   "source": [
    "grid.best_score_"
   ]
  }
 ],
 "metadata": {
  "kernelspec": {
   "display_name": "Python 3",
   "language": "python",
   "name": "python3"
  },
  "language_info": {
   "codemirror_mode": {
    "name": "ipython",
    "version": 3
   },
   "file_extension": ".py",
   "mimetype": "text/x-python",
   "name": "python",
   "nbconvert_exporter": "python",
   "pygments_lexer": "ipython3",
   "version": "3.7.4"
  }
 },
 "nbformat": 4,
 "nbformat_minor": 2
}
